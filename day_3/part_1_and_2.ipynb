{
 "cells": [
  {
   "cell_type": "markdown",
   "id": "ad72561a-2a6c-4025-b26c-4e2c406c6337",
   "metadata": {},
   "source": [
    "# What is the problem?\n",
    "+ What is the sum of all of the part numbers in the engine schematic?\n",
    "+ For a number to be considered part of the schematic mechanism, the number must be adjacent to a symbol, even diagonally.\n",
    "+ (Periods (.) do not count as a symbol.)\n",
    "\n",
    "\n",
    "# advent of code examples:\n",
    "\n",
    "467..114..\r\n",
    "...*......\r\n",
    "..35..633.\r\n",
    "......#...\r\n",
    "617*......\r\n",
    ".....+.58.\r\n",
    "..592.....\r\n",
    "......755.\r\n",
    "...$.*....\r\n",
    ".664.598..\n",
    "\n",
    "\n",
    "# What to do?\n",
    "+ Know what it means to be adjacent = immediately next to at least one symbol, even diagonally;\n",
    "+ Knowing how to make the numbers 114 and 58 as \"part number\", because it can help find the\n",
    "+ Recognize numbers;\n",
    "+ Recognize symbols;\n",
    "+ Recognize the directions problem;\n",
    "\n",
    "\n"
   ]
  },
  {
   "cell_type": "code",
   "execution_count": null,
   "id": "1aea3438-2847-441d-b9bf-8684adc6fa56",
   "metadata": {},
   "outputs": [],
   "source": []
  }
 ],
 "metadata": {
  "kernelspec": {
   "display_name": "Python 3 (ipykernel)",
   "language": "python",
   "name": "python3"
  },
  "language_info": {
   "codemirror_mode": {
    "name": "ipython",
    "version": 3
   },
   "file_extension": ".py",
   "mimetype": "text/x-python",
   "name": "python",
   "nbconvert_exporter": "python",
   "pygments_lexer": "ipython3",
   "version": "3.11.0"
  }
 },
 "nbformat": 4,
 "nbformat_minor": 5
}
