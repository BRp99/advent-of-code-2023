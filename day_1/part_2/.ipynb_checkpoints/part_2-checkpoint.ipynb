{
 "cells": [
  {
   "cell_type": "markdown",
   "id": "cd1256ac-1c91-455a-b058-f45c62ae09a7",
   "metadata": {},
   "source": [
    "# What is the problem?\n",
    "* Some of the digits are actually spelled out with letters: one, two, three, four, five, six, seven, eight, and nine also count as valid \"digits\".\n",
    "* I nedd to find the real first and last digit on each line.\n",
    "\n",
    "# advent of code examples:\r",
    "*  two1nine: first digit =2, last digit =9 -> number of two digits =29  \n",
    "eightwothre:  first digit = 8, last digit = 3 -> number of two digits = 83\n",
    "*  abcone2threexyz: first digit = 1, last digit = 3 -> number of two digits = 13\n",
    "*  xtwone3four: first digit = 2, last digit = 4 -> number of two digits = 24\n",
    "*  4nineeightseven2: first digit = 4, last digit = 2 -> number of two digits = 42\n",
    "*  zoneight234: first digit = 1, last digit = 4 -> number of two digits = 14\n",
    "*  7pqrstsixteen: first digit = 7, last digit = 6 -> number of two digits = 76\n",
    "# What to do?\n",
    "* solve the problem with the example of advent of code, to see if the final result is 281, it's a way to understand if I'm doing the right steps;\n",
    "* read the calibration document line by line;\n",
    "* for each line, extract the first and last digit;\n",
    "* combine the two digits to form a two-digit number;\n",
    "* add up all these two digit values;\n",
    "* see total sum."
   ]
  },
  {
   "cell_type": "code",
   "execution_count": 2,
   "id": "a1f4f829-5acd-41dd-8836-119fa3f3a8ce",
   "metadata": {},
   "outputs": [
    {
     "name": "stdout",
     "output_type": "stream",
     "text": [
      "Array of numbers:\n",
      "[83, 14]\n",
      "97\n"
     ]
    }
   ],
   "source": [
    "import re\n",
    "\n",
    "#Create a file.txt when I can put the inputs of the problem.\n",
    "read_file = open(\"input_part_2.txt\", \"r\")\n",
    "content = read_file.read()\n",
    "read_file.close()\n",
    "\n",
    "#Pass the text file to an array: transform \"content\" variable into an array of strings.\n",
    "array_of_strings = content.split()\n",
    "\n",
    "#I use a dictionary structure to associate words with their corresponding numerical values, where the keys are the alphabetic characters (in this case, the digits in full) and the values are the numeric equivalents.\n",
    "def extract_number_from_string(string):\n",
    "    valid_digits = {\n",
    "        'one': 1,\n",
    "        'two': 2,\n",
    "        'three': 3,\n",
    "        'four': 4,\n",
    "        'five': 5,\n",
    "        'six': 6,\n",
    "        'seven': 7,\n",
    "        'eight': 8,\n",
    "        'nine': 9,\n",
    "    }\n",
    "\n",
    "    #create regular expression to capture digits or words corresponding to numbers one through nine.\n",
    "    regular_expression = r'\\d|one|two|three|four|five|six|seven|eight|nine'\n",
    "    \n",
    "    #The found_match list stores found matches.\n",
    "    matched_substrings  = []\n",
    "    \n",
    "    #for loop that iterates over the indices of the input string string.\n",
    "    #this loop will go through each character of a string, starting from the first character until the end of the string. Check for a match to the regular expression and append all valid matches to the found list\n",
    "    for i in range(len(string)):\n",
    "        \n",
    "        current_string = string[i:]\n",
    "        match = re.search(regular_expression, current_string)\n",
    "        if match is not None:\n",
    "            #group(0) in regular expressions represents the entire content of match.\n",
    "            matched_substrings .append(match.group(0))\n",
    "            \n",
    "    #checks if the first and last numbers are words or digits and assigns the corresponding values.\n",
    "    first_digit = valid_digits[matched_substrings [0]] if not matched_substrings [0].isdigit() else int(matched_substrings [0])\n",
    "    last_digit = valid_digits[matched_substrings [-1]] if not matched_substrings [-1].isdigit() else int(matched_substrings [-1])\n",
    "\n",
    "    return first_digit * 10 + last_digit\n",
    "\n",
    "array_of_numbers = [extract_number_from_string(string) for string in array_of_strings]\n",
    "print(\"Array of numbers:\")\n",
    "print(array_of_numbers)\n",
    "\n",
    "sum_array = sum(array_of_numbers)\n",
    "print(sum_array)"
   ]
  },
  {
   "cell_type": "code",
   "execution_count": null,
   "id": "0248f7bb-aaca-42e1-993a-19e3df24b20c",
   "metadata": {},
   "outputs": [],
   "source": []
  }
 ],
 "metadata": {
  "kernelspec": {
   "display_name": "Python 3 (ipykernel)",
   "language": "python",
   "name": "python3"
  },
  "language_info": {
   "codemirror_mode": {
    "name": "ipython",
    "version": 3
   },
   "file_extension": ".py",
   "mimetype": "text/x-python",
   "name": "python",
   "nbconvert_exporter": "python",
   "pygments_lexer": "ipython3",
   "version": "3.11.0"
  }
 },
 "nbformat": 4,
 "nbformat_minor": 5
}
