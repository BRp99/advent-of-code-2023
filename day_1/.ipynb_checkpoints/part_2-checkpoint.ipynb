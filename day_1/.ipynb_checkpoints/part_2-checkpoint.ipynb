{
 "cells": [
  {
   "cell_type": "markdown",
   "id": "cd1256ac-1c91-455a-b058-f45c62ae09a7",
   "metadata": {},
   "source": [
    "# What is the problem?\n",
    "* Some of the digits are actually spelled out with letters: one, two, three, four, five, six, seven, eight, and nine also count as valid \"digits\".\n",
    "* I nedd to find the real first and last digit on each line.\n",
    "\n",
    "# advent of code examples:\r",
    "*  two1nine: first digit =2, last digit =9 -> number of two digits =29  \n",
    "eightwothre:  first digit = 8, last digit = 3 -> number of two digits = 83\n",
    "*  abcone2threexyz: first digit = 1, last digit = 3 -> number of two digits = 13\n",
    "*  xtwone3four: first digit = 2, last digit = 4 -> number of two digits = 24\n",
    "*  4nineeightseven2: first digit = 4, last digit = 2 -> number of two digits = 42\n",
    "*  zoneight234: first digit = 1, last digit = 4 -> number of two digits = 14\n",
    "*  7pqrstsixteen: first digit = 7, last digit = 6 -> number of two digits = 76\n",
    "# What to do?\n",
    "* solve the problem with the example of advent of code, to see if the final result is 281, it's a way to understand if I'm doing the right steps;\n",
    "* read the calibration document line by line;\n",
    "* for each line, extract the first and last digit;\n",
    "* combine the two digits to form a two-digit number;\n",
    "* add up all these two digit values;\n",
    "* see total sum."
   ]
  },
  {
   "cell_type": "code",
   "execution_count": 11,
   "id": "a1f4f829-5acd-41dd-8836-119fa3f3a8ce",
   "metadata": {},
   "outputs": [
    {
     "name": "stdout",
     "output_type": "stream",
     "text": [
      "Array of numbesr:\n",
      "[99, 36, 73, 17, 62, 82, 89, 45, 38, 75, 74, 73, 56, 52, 55, 96, 78, 11, 47, 44, 87, 71, 77, 97, 22, 49, 45, 39, 41, 11, 47, 13, 64, 71, 66, 99, 28, 54, 92, 12, 61, 32, 38, 76, 36, 75, 75, 96, 66, 71, 22, 85, 22, 28, 62, 32, 27, 15, 57, 19, 84, 28, 81, 19, 61, 44, 35, 21, 61, 55, 37, 33, 26, 26, 22, 81, 22, 72, 56, 57, 17, 89, 51, 22, 54, 43, 78, 25, 17, 61, 77, 12, 52, 68, 72, 13, 58, 76, 35, 46, 64, 41, 35, 84, 56, 19, 58, 32, 99, 97, 16, 59, 59, 77, 86, 51, 15, 59, 21, 35, 78, 14, 29, 37, 99, 12, 25, 25, 44, 12, 66, 74, 12, 71, 51, 53, 12, 88, 55, 72, 99, 14, 24, 32, 53, 75, 36, 66, 93, 84, 29, 88, 62, 86, 68, 32, 41, 43, 25, 66, 96, 91, 27, 66, 97, 86, 31, 18, 15, 12, 41, 17, 87, 92, 46, 62, 55, 61, 75, 87, 98, 32, 29, 52, 88, 97, 15, 57, 43, 94, 77, 46, 57, 43, 33, 52, 42, 25, 87, 84, 35, 14, 91, 34, 79, 93, 95, 22, 74, 58, 96, 96, 52, 12, 52, 44, 55, 87, 67, 86, 42, 11, 99, 73, 14, 38, 39, 85, 48, 72, 62, 82, 53, 86, 36, 45, 19, 54, 95, 98, 86, 38, 45, 47, 77, 63, 47, 51, 55, 97, 67, 29, 98, 92, 75, 63, 83, 31, 71, 85, 67, 51, 73, 73, 74, 72, 32, 24, 46, 77, 61, 36, 33, 77, 48, 59, 66, 92, 62, 15, 28, 91, 87, 18, 15, 26, 73, 49, 82, 98, 66, 12, 38, 32, 23, 25, 12, 22, 98, 28, 12, 71, 42, 88, 25, 89, 78, 29, 25, 58, 87, 17, 99, 67, 22, 43, 86, 49, 11, 85, 14, 35, 12, 57, 36, 69, 61, 26, 57, 92, 19, 75, 12, 88, 34, 58, 25, 64, 28, 18, 24, 53, 31, 18, 26, 58, 14, 11, 83, 81, 32, 45, 66, 29, 71, 89, 88, 96, 92, 94, 44, 51, 92, 65, 28, 67, 19, 37, 14, 53, 26, 92, 27, 59, 76, 39, 25, 77, 22, 41, 74, 97, 22, 34, 54, 15, 16, 65, 25, 19, 67, 94, 18, 99, 71, 25, 66, 98, 92, 19, 81, 92, 31, 65, 65, 45, 57, 86, 92, 23, 63, 48, 68, 28, 23, 75, 42, 24, 84, 37, 95, 75, 28, 95, 28, 43, 97, 87, 19, 13, 46, 18, 47, 16, 25, 86, 85, 27, 33, 43, 21, 36, 67, 27, 83, 32, 95, 17, 52, 68, 17, 69, 87, 99, 95, 32, 38, 49, 28, 12, 89, 95, 46, 12, 97, 55, 52, 15, 24, 65, 21, 11, 41, 99, 98, 68, 38, 31, 48, 34, 82, 56, 18, 77, 32, 78, 92, 49, 84, 75, 24, 71, 54, 56, 42, 83, 49, 82, 49, 19, 76, 85, 42, 56, 58, 11, 74, 18, 72, 75, 21, 24, 84, 67, 95, 81, 54, 96, 85, 18, 26, 21, 16, 64, 21, 54, 11, 74, 48, 65, 39, 54, 76, 28, 82, 34, 94, 67, 77, 72, 55, 75, 77, 44, 92, 86, 68, 55, 61, 37, 45, 88, 11, 99, 26, 47, 22, 49, 29, 99, 37, 12, 22, 59, 62, 93, 46, 15, 95, 38, 91, 78, 83, 44, 98, 51, 53, 55, 88, 82, 63, 36, 38, 51, 83, 88, 22, 63, 52, 75, 56, 81, 62, 76, 87, 59, 14, 34, 13, 44, 62, 68, 81, 58, 44, 75, 81, 19, 85, 97, 55, 99, 85, 12, 38, 55, 33, 92, 46, 35, 37, 94, 87, 38, 62, 45, 16, 29, 93, 43, 95, 88, 91, 22, 51, 18, 44, 27, 71, 27, 65, 31, 35, 84, 87, 92, 55, 68, 33, 35, 17, 51, 11, 87, 92, 32, 88, 22, 16, 54, 94, 98, 24, 92, 86, 36, 91, 24, 72, 66, 42, 92, 92, 33, 37, 45, 89, 59, 55, 44, 16, 48, 99, 64, 76, 92, 24, 99, 23, 23, 87, 69, 69, 79, 83, 63, 59, 73, 27, 32, 67, 52, 68, 18, 64, 75, 44, 11, 98, 86, 86, 17, 48, 87, 62, 55, 63, 99, 17, 19, 99, 92, 79, 66, 91, 51, 21, 66, 56, 41, 96, 84, 86, 55, 96, 25, 79, 48, 56, 66, 33, 66, 37, 77, 71, 24, 77, 22, 15, 71, 71, 14, 27, 98, 14, 65, 79, 54, 72, 54, 97, 66, 19, 56, 35, 98, 22, 19, 74, 64, 58, 99, 46, 82, 59, 74, 16, 17, 74, 33, 13, 95, 49, 33, 54, 79, 21, 47, 13, 14, 16, 88, 94, 51, 85, 21, 15, 73, 86, 47, 51, 73, 77, 59, 74, 28, 28, 27, 19, 95, 58, 86, 43, 77, 55, 99, 26, 65, 26, 76, 31, 57, 14, 12, 22, 97, 91, 92, 84, 83, 84, 66, 99, 67, 62, 53, 22, 45, 27, 85, 96, 94, 42, 86, 87, 56, 15, 86, 96, 78, 32, 38, 63, 55, 59, 27, 42, 66, 88, 49, 36, 64, 44, 19, 49, 23, 81, 26, 49, 34, 78, 91, 71, 85, 76, 91, 17, 96, 89, 22, 96, 23, 22, 69, 24, 65, 19, 14, 94, 33, 87, 69, 29, 48, 57, 24, 82, 25, 11, 13, 36, 72, 65, 93, 68, 38, 88, 73, 92, 45, 71, 22, 92, 49, 66, 39, 54, 11, 14, 49, 11, 37, 54, 72, 32, 89, 35, 35, 37, 45, 52, 39, 99, 99, 56, 63, 77, 31, 86, 85, 99, 22, 77, 49, 56, 87, 59, 14, 87, 12, 72, 55, 95, 18, 82, 83, 22, 88, 18, 31, 77, 83, 78, 98, 45, 41, 39, 34, 65, 54, 62, 88, 13, 21, 22, 24, 64, 13, 35, 22, 44, 11, 82, 14, 31, 16, 48, 85, 27, 49, 77, 89, 29, 42, 82, 39, 28, 13, 47, 19]\n",
      "54824\n"
     ]
    }
   ],
   "source": [
    "import re\n",
    "\n",
    "#I use a dictionary structure to associate words with their corresponding numerical values, where the keys are the alphabetic characters (in this case, the digits in full) and the values are the numeric equivalents.\n",
    "def extract_number_from_string(string):\n",
    "    valid_digits = {\n",
    "        'one': 1,\n",
    "        'two': 2,\n",
    "        'three': 3,\n",
    "        'four': 4,\n",
    "        'five': 5,\n",
    "        'six': 6,\n",
    "        'seven': 7,\n",
    "        'eight': 8,\n",
    "        'nine': 9,\n",
    "    }\n",
    "\n",
    "    #create regular expression to capture digits or words corresponding to numbers one through nine.\n",
    "    regular_expression = r'\\d|one|two|three|four|five|six|seven|eight|nine'\n",
    "    \n",
    "    #The found_match list stores found matches.\n",
    "    matched_substrings  = []\n",
    "    \n",
    "    #for loop that iterates over the indices of the input string string.\n",
    "    #this loop will go through each character of a string, starting from the first character until the end of the string. Check for a match to the regular expression and append all valid matches to the found list\n",
    "    for i in range(len(string)):\n",
    "        \n",
    "        current_string = string[i:]\n",
    "        match = re.search(regular_expression, current_string)\n",
    "        if match is not None:\n",
    "            #group(0) in regular expressions represents the entire content of match.\n",
    "            matched_substrings .append(match.group(0))\n",
    "            \n",
    "    #checks if the first and last numbers are words or digits and assigns the corresponding values.\n",
    "    first_digit = valid_digits[matched_substrings [0]] if not matched_substrings [0].isdigit() else int(matched_substrings [0])\n",
    "    last_digit = valid_digits[matched_substrings [-1]] if not matched_substrings [-1].isdigit() else int(matched_substrings [-1])\n",
    "\n",
    "    return first_digit * 10 + last_digit\n",
    "\n",
    "\n",
    "#Create a file.txt when I can put the inputs of the problem.\n",
    "read_file = open(\"input_part_2.txt\", \"r\")\n",
    "content = read_file.read()\n",
    "read_file.close()\n",
    "\n",
    "#Pass the text file to an array: transform \"content\" variable into an array of strings.\n",
    "array_of_strings = content.split()\n",
    "\n",
    "\n",
    "array_of_numbers = [extract_number_from_string(string) for string in array_of_strings]\n",
    "print(\"Array of numbesr:\")\n",
    "print(array_of_numbers)\n",
    "\n",
    "sum_array = sum(array_of_numbers)\n",
    "print(sum_array)"
   ]
  },
  {
   "cell_type": "code",
   "execution_count": null,
   "id": "0248f7bb-aaca-42e1-993a-19e3df24b20c",
   "metadata": {},
   "outputs": [],
   "source": []
  }
 ],
 "metadata": {
  "kernelspec": {
   "display_name": "Python 3 (ipykernel)",
   "language": "python",
   "name": "python3"
  },
  "language_info": {
   "codemirror_mode": {
    "name": "ipython",
    "version": 3
   },
   "file_extension": ".py",
   "mimetype": "text/x-python",
   "name": "python",
   "nbconvert_exporter": "python",
   "pygments_lexer": "ipython3",
   "version": "3.11.0"
  }
 },
 "nbformat": 4,
 "nbformat_minor": 5
}
