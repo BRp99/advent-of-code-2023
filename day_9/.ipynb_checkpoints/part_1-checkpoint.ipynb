{
 "cells": [
  {
   "cell_type": "markdown",
   "id": "5fabba9c-bbb7-4b50-bad4-f6b7e07250cf",
   "metadata": {},
   "source": [
    "# What is the problem?\n",
    "+ I lost in the desert, but in one of the camel's bags there are maps that help me navigate the desert (my input).\n",
    "+ \n",
    "\r\n",
    "One of the documents contains a list of left/right instructions and the rest of the documents appear to describe some kind of network of labeled no.\n",
    "+ .\r\n",
    "\r\n",
    "I must use left/right instructions to navigate the ne.\n",
    "+ rk.\r\n",
    "\r\n",
    "But two nodes stand out: AAA and ZZZ. And the AAA node is where I am now and I need to follow the left/right directions until I get.ZZZ)ZZZ.\r\n",
    "\n",
    "+"
   ]
  },
  {
   "cell_type": "code",
   "execution_count": 21,
   "id": "b02fe70a-0844-4258-b452-7f7cad39f2d1",
   "metadata": {},
   "outputs": [],
   "source": [
    "def load_lines(input_txt):\n",
    "    with open(\"input.txt\", 'r') as file:\n",
    "       \n",
    "        return file.readlines()\n",
    "         print(file)\n"
   ]
  },
  {
   "cell_type": "code",
   "execution_count": null,
   "id": "1c479f68-f7b3-4dad-b427-d93aed5fbf38",
   "metadata": {},
   "outputs": [],
   "source": []
  }
 ],
 "metadata": {
  "kernelspec": {
   "display_name": "Python 3 (ipykernel)",
   "language": "python",
   "name": "python3"
  },
  "language_info": {
   "codemirror_mode": {
    "name": "ipython",
    "version": 3
   },
   "file_extension": ".py",
   "mimetype": "text/x-python",
   "name": "python",
   "nbconvert_exporter": "python",
   "pygments_lexer": "ipython3",
   "version": "3.11.0"
  }
 },
 "nbformat": 4,
 "nbformat_minor": 5
}
