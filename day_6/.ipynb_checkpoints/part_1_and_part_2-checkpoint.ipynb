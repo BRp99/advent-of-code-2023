{
 "cells": [
  {
   "cell_type": "markdown",
   "id": "ac719685-ba06-4f63-8609-400ab3f8770b",
   "metadata": {},
   "source": [
    "# Goal:\n",
    "+ travel as far as possible\n",
    "+ I travel as quickly as possible if I keep the button pressed for longer.\n",
    "+ The problem is that I travel faster, but the time I spend pressing the button is part of the total running time.\n",
    "\n",
    "# Rule:\n",
    "+ I can only hold the button at the start of the race and the boats don't move until the button is released"
   ]
  },
  {
   "cell_type": "code",
   "execution_count": 20,
   "id": "9cd3a353-c8a8-45dc-bad4-e9bf302d1138",
   "metadata": {},
   "outputs": [
    {
     "name": "stdout",
     "output_type": "stream",
     "text": [
      "{'part1': 288, 'part2': 71503}\n"
     ]
    }
   ],
   "source": [
    "#this function takes two parameters and I use a for loop to iterate over all possible times to hold the button (hold_time).\n",
    "#checks whether the distance covered in this time is greater than the recorded distance, if so, it increments the count counter and\n",
    "#returns the final value of the count counter\n",
    "def calculate_ways(time, dist):\n",
    "    count = 0\n",
    "    for hold_time in range(time):\n",
    "        if (time - hold_time) * hold_time > dist:\n",
    "            count += 1\n",
    "    return count\n",
    "\n",
    "def main():\n",
    "    #input value advent of code example\n",
    "    part1_input = [[7, 9], [15, 40], [30, 200]]\n",
    "    #start to count in 1, because i am goint to multiplicate the numbers. And then iterates over the input runs, multiplying the result of calculate_ways for each run.\n",
    "    #calculates the result of part 2 using the different input (put the numbers together.)\n",
    "    #combines the results into a result dictionary.\n",
    "    part1_result = 1\n",
    "    for race_params in part1_input:\n",
    "        part1_result *= calculate_ways(*race_params)\n",
    "#join the numbers into a single number for \"time\" = Time and \"dist\" = Distance\n",
    "    part2_result = calculate_ways(71530, 940200)\n",
    "#dictionary\n",
    "    result = {\"part1\": part1_result, \"part2\": part2_result}\n",
    "    print(result)\n",
    "\n",
    "if __name__ == \"__main__\":\n",
    "    main()"
   ]
  }
 ],
 "metadata": {
  "kernelspec": {
   "display_name": "Python 3 (ipykernel)",
   "language": "python",
   "name": "python3"
  },
  "language_info": {
   "codemirror_mode": {
    "name": "ipython",
    "version": 3
   },
   "file_extension": ".py",
   "mimetype": "text/x-python",
   "name": "python",
   "nbconvert_exporter": "python",
   "pygments_lexer": "ipython3",
   "version": "3.11.0"
  }
 },
 "nbformat": 4,
 "nbformat_minor": 5
}
