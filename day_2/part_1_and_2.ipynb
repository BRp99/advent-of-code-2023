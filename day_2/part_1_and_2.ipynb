{
 "cells": [
  {
   "cell_type": "markdown",
   "id": "3d988318-c30d-408f-beb2-d88c2d6178ec",
   "metadata": {},
   "source": [
    "# Part 1\n",
    "# What is the problem?  \n",
    "+ The Elf would first like to know what games would be possible if the bag only contained 12 red cubes, 13 green cubes and 14 blue cubes;\n",
    "+ Each game has a id, the rigth answer is the total sum of the game ids.\n",
    "\n",
    "# advent of code examples:\n",
    "+ Game 1: 3 blue, 4 red; 1 red, 2 green, 6 blue; 2 green;\n",
    "+ Game 2: 1 blue, 2 green; 3 green, 4 blue, 1 red; 1 green, 1 blue;\n",
    "+ Game 3: 8 green, 6 blue, 20 red; 5 blue, 4 red, 13 green; 5 green, 1 edr;\n",
    "+ \n",
    "Game 4: 1 green, 3 red, 6 blue; 3 green, 6 red; 3 green, 15 blue,  red4 ;+ \r\n",
    "Game 5: 6 red, 1 blue, 3 green; 2 blue, 1 red, renn2g;r\n",
    "\n",
    "# How to so the probl:em\n",
    "+ In game 1, three sets of cubes are revealed from the bag (and then put bac;n;\n",
    "+ The first set contains 3 blue cubes and 4 red cubes; the second set is 1 red cube, 2 green cubes and 6 blue cubes; the third set contains only 2 green ces;\n",
    "+ Each subset cannot have more than 12 RED CUBES, 13 GREEN CUBES, AND 14 BLUE CUBES, for this reason the possible games are: b\n",
    "EPOSSIBLE GAMES: : games 1, 2, and 5 would have been possible if the bag had been loaded with that configuratio\n",
    "  n;\n",
    "+ NO POSSIB GAMESLE: game 3 would have been impossible because at one point the Elf showed you 20 red cubes at once; similarly, game 4 would also have been impossible because the Elf showed you 15 blue cubes at once.e\n",
    "\n",
    "\n",
    "# Part 2\n",
    "# What is the problem?\n",
    "\n",
    "* For each game, find the minimum set of cubes that must have been present. What is the sum of the power of these sets?\n",
    "en\n"
   ]
  },
  {
   "cell_type": "code",
   "execution_count": 2,
   "id": "413ee4fa-59b4-43f4-88dc-bc16acc5aaa9",
   "metadata": {},
   "outputs": [
    {
     "name": "stdout",
     "output_type": "stream",
     "text": [
      "content:\n",
      "['Game 1: 3 blue, 4 red; 1 red, 2 green, 6 blue; 2 green', 'Game 2: 1 blue, 2 green; 3 green, 4 blue, 1 red; 1 green, 1 blue', 'Game 3: 8 green, 6 blue, 20 red; 5 blue, 4 red, 13 green; 5 green, 1 red', 'Game 4: 1 green, 3 red, 6 blue; 3 green, 6 red; 3 green, 15 blue, 14 red', 'Game 5: 6 red, 1 blue, 3 green; 2 blue, 1 red, 2 green']\n",
      "games:\n",
      "[{'gameId': 1, 'red': 4, 'green': 2, 'blue': 6}, {'gameId': 2, 'red': 1, 'green': 3, 'blue': 4}, {'gameId': 3, 'red': 20, 'green': 13, 'blue': 6}, {'gameId': 4, 'red': 14, 'green': 3, 'blue': 15}, {'gameId': 5, 'red': 6, 'green': 3, 'blue': 2}]\n",
      "Part 1\n",
      "8\n",
      "Part 2\n",
      "2286\n"
     ]
    }
   ],
   "source": [
    "read_file = open(\"input_part_1_and_2.txt\", \"r\")\n",
    "#read() is different from readlines(). read() reads the entire contents of a file as a single string.\n",
    "#whereas readlines() reads lines from a file and returns a list of strings, where each element of the list represents a line from the file, and thats what I pretend. \n",
    "content= read_file.readlines()\n",
    "read_file.close()\n",
    "\n",
    "#strip() method removes whitespace at the beginning and end of each line. Where each element in the list is a string representing a line of text.\n",
    "content = [line.strip() for line in content]\n",
    "print(\"content:\")\n",
    "print(content)\n",
    "\n",
    "#create an empty list called \"games\" that will be used to store information about games.\n",
    "games = []\n",
    "\n",
    "#iterates over each line in the \"content\" list\n",
    "for line in content:\n",
    "    #splits each line into two parts using \": \" as delimiter and assigns the results to the id and game_stages variables\n",
    "   \n",
    "    id, game_stages = line.split(\": \")\n",
    "    #extracts the game number (gameId) from the first part of the line\n",
    "    gameId = int(id.split(\" \")[1])\n",
    "    #initialize a dictionary called \"game\" to store information about a specific game and initializing the \"red\", \"green\", and \"blue\" counts to zero\n",
    "    game = {\"gameId\": gameId, \"red\": 0, \"green\": 0, \"blue\": 0}\n",
    "\n",
    "    \n",
    "    #the code goes through the \"game_stages\" parts of each line, divides these parts into colors and quantities and updating the counts in the \"game\" dictionary\n",
    "    #for example: inicial value for Game 1 was: \"3 blue, 4 red; 1 red, 2 green, 6 blue; 2 green\".\n",
    "    #with split(\"; \") Game 1 know stays: [\"3 blue, 4 red\", \"1 red, 2 green, 6 blue\", \"2 green\"], where do I get a list of individual game steps.\n",
    "    for reach in game_stages.split(\"; \"): \n",
    "\n",
    "        #to create each subset (or phases), I split it again using \", \"\n",
    "        #Know the first phase/subset in Game 1 is [\"3 blue\", \"4 red\"]. Phase/subset 2 is: [\"1 red\", \"2 green\", \"6 blue\"] and phase/subset 3 is [\"2 green\"].  \n",
    "        for color in reach.split(\", \"):\n",
    "\n",
    "            #create a list with two elements, where the first is the quantity (quantity) and the second is the color (name). For example in Game 1 in phase/subset 3 I have [\"2 green\"].\n",
    "            #With this code I have quantity=\"2\" and color= \"green\".\n",
    "            quantity, name = color.split(\" \")\n",
    "            #checks if the current game quantity for the color \"green\" is less than the new quantity \"2\".\n",
    "            if game[name] < int(quantity):\n",
    "                #if true, updates the game quantity to the color \"green\" with the new quantity \"2\".\n",
    "                game[name] = int(quantity)\n",
    "                \n",
    "    #add the \"game\" dictionary to the \"games\" list, representing a complete game.\n",
    "    games.append(game)\n",
    "print(\"games:\")\n",
    "print(games)\n",
    "\n",
    "# Part 1: calculate the sum of gameIds for games that have the conditions that the elf asked for: 12 red cubes, 13 green cubes and 14 blue cubes.\n",
    "part_1 = sum(game[\"gameId\"] for game in games if game[\"red\"] <= 12 and game[\"green\"] <= 13 and game[\"blue\"] <= 14)\n",
    "print(\"Part 1\")\n",
    "print(part_1)\n",
    "\n",
    "# Part 2: Calculate the sum of the product of the quantities of \"red\", \"green\" and \"blue\" for all games.\n",
    "#Calculate product sum = operation of multiplying individual elements (red green and blue) in a sequence and then sum all these results\n",
    "part_2 = sum(game[\"red\"] * game[\"green\"] * game[\"blue\"] for game in games)\n",
    "print(\"Part 2\")\n",
    "print(part_2)\n"
   ]
  },
  {
   "cell_type": "code",
   "execution_count": null,
   "id": "981f8671-08b6-4f3c-b96c-225026bc96fb",
   "metadata": {},
   "outputs": [],
   "source": []
  }
 ],
 "metadata": {
  "kernelspec": {
   "display_name": "Python 3 (ipykernel)",
   "language": "python",
   "name": "python3"
  },
  "language_info": {
   "codemirror_mode": {
    "name": "ipython",
    "version": 3
   },
   "file_extension": ".py",
   "mimetype": "text/x-python",
   "name": "python",
   "nbconvert_exporter": "python",
   "pygments_lexer": "ipython3",
   "version": "3.11.0"
  }
 },
 "nbformat": 4,
 "nbformat_minor": 5
}
