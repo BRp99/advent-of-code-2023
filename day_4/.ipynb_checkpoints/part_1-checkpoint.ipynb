{
 "cells": [
  {
   "cell_type": "markdown",
   "id": "b852ae19-2e0b-4c57-b04f-e519d35c96d3",
   "metadata": {},
   "source": [
    "# What is the problem?\r",
    "+ I have a separate list with a vertical bar (|). On the left side of the vertical bar are the numbers that are part of the winning numbers. On the right side of the vertical bar are the numbers that are in my possession (not the input)\n",
    "+ I have to find out which of the numbers appear in the list of winning numbers (i.e. the numbers that are repeated on both sides of the vertical bar)\n",
    "l# .)\r\n",
    "advent of code examplCard 1: 41 48 83 86 17 | 83 86  6 31 17  9 48 53\r\n",
    "Card 2: 13 32 20 16 61 | 61 30 68 82 17 32 24 19\r\n",
    "Card 3:  1 21 53 59 44 | 69 82 63 72 16 21 14  1\r\n",
    "Card 4: 41 92 73 84 69 | 59 84 76 51 58  5 54 83\r\n",
    "Card 5: 87 83 26 28 32 | 88 30 70 12 93 22 82 36\r\n",
    "Card 6: 31 18 13 56 72 | 74 77 10 23 35 67 3\n",
    "# Explanation\n",
    "Card 1 (48, 83, 17, and 86) are winning numbers! That means card 1 is worth 8 points (1 for the first match, then doubled three times for each of the three matches after the first).\n",
    "\r\n",
    "Card 2 has two winning numbers (32 and 61), so it is worth 2 points.\r\n",
    "Card 3 has two winning numbers (1 and 21), so it is worth 2 points.\r\n",
    "Card 4 has one winning number (84), so it is worth 1 point.\r\n",
    "Card 5 has no winning numbers, so it is worth no points.\r\n",
    "Card 6 has no winning numbers, so it is worth no points.\n",
    "\n",
    "\n",
    "6 1159# 8. Compare the left side with the right side of the bar.\r",
    " Create an array to take with the repeated numbers\n",
    "\r\n",
    "What +\n",
    "+gons problem;"
   ]
  },
  {
   "cell_type": "code",
   "execution_count": 16,
   "id": "ddb5d8ae-630f-4c81-8f12-3c49abe9950d",
   "metadata": {},
   "outputs": [
    {
     "name": "stdout",
     "output_type": "stream",
     "text": [
      "13\n"
     ]
    }
   ],
   "source": [
    "import re\n",
    "\n",
    "#open the \"input.txt\" file in reading mode.\n",
    "#\"with\" ... \"as file\": \"with\" statement ensures that the file will be closed correctly after use.\n",
    "with open(\"input.txt\", \"r\") as file:\n",
    "#\"file.read()\": reads the entire contents of the file and stores it in the input_str variable.\n",
    "    input_str = file.read()\n",
    "\n",
    "#input_str.split('\\n'): splits the input_str string into a list of lines based on line break characters ('\\n').\n",
    "lines = input_str.split('\\n')\n",
    "\n",
    "\n",
    "#result: store the final result by adding the calculated values for each line.\n",
    "result = sum(\n",
    "    [\n",
    "        #I will iterate over the input lines, where I apply a lambda function to each line, where the line is split using re.split('[:|]', line, 2) and each segment is \"stripped\" using str.strip. The result is a sequence of tuples (cardId, winningNumbers, ownNumbers).\n",
    "        #because I want to obtain a sequence of tuples representing the information of each line with this sequence (cardId, winningNumbers, ownNumbers).\n",
    "        0 if numMatches == 0 else 2**(numMatches-1)\n",
    "        for cardId, winningNumbers, ownNumbers in (\n",
    "            map(lambda line: map(str.strip, re.split('[:|]', line, 2)), lines)\n",
    "        )\n",
    "\n",
    "        #If there are no hits, the value is 0.\n",
    "        #If there are hits, calculate 2 raised to the power of nbNumbers - 1\n",
    "        if (numMatches := sum(\n",
    "            1 if number in winningNumbers.split() else 0\n",
    "            for number in ownNumbers.split()\n",
    "        ))\n",
    "    ]\n",
    ")\n",
    "print(result)"
   ]
  },
  {
   "cell_type": "code",
   "execution_count": null,
   "id": "df5d9f27-01e0-484e-b25f-b321b7e7054e",
   "metadata": {},
   "outputs": [],
   "source": []
  }
 ],
 "metadata": {
  "kernelspec": {
   "display_name": "Python 3 (ipykernel)",
   "language": "python",
   "name": "python3"
  },
  "language_info": {
   "codemirror_mode": {
    "name": "ipython",
    "version": 3
   },
   "file_extension": ".py",
   "mimetype": "text/x-python",
   "name": "python",
   "nbconvert_exporter": "python",
   "pygments_lexer": "ipython3",
   "version": "3.11.0"
  }
 },
 "nbformat": 4,
 "nbformat_minor": 5
}
