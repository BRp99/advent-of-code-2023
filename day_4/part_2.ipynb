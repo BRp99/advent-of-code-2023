{
 "cells": [
  {
   "cell_type": "markdown",
   "id": "3e25a123-2c94-4009-9cb9-a2f1a2040d86",
   "metadata": {},
   "source": [
    "# What is the problem?\n",
    "+  I have to simulate winning copies of scratch cards based on matching numbers in a stack of cards, until no more copies can be won, and determine the total number of scratch cards, including originals and copies."
   ]
  },
  {
   "cell_type": "code",
   "execution_count": 8,
   "id": "ce6f2de9-1e88-4114-95c8-38c095365573",
   "metadata": {},
   "outputs": [
    {
     "name": "stdout",
     "output_type": "stream",
     "text": [
      "30\n"
     ]
    }
   ],
   "source": [
    "import re\n",
    "\n",
    "# reading the file content\n",
    "with open(\"input.txt\", \"r\") as file:\n",
    "    input_str = file.read()\n",
    "\n",
    "lines = input_str.split('\\n')\n",
    "\n",
    "#list of cards, where each card represents a card with its information\n",
    "cards = []\n",
    "\n",
    "# function to calculate the value associated with each line\n",
    "#calculate the value associated with a line\n",
    "def calculate_line_value(card, card_list):\n",
    "    key = card_list.index(card)\n",
    "    for i in range(1, card['numMatches'] + 1):\n",
    "        if key + i < len(card_list):\n",
    "            multiplied_card = card_list[key + i]\n",
    "            multiplied_card['multiplier'] += card['multiplier']\n",
    "    return card['multiplier']\n",
    "\n",
    "    #\"winningNumbersArray\" contains the winning numbers for each card in list\n",
    "for cardId, winningNumbers, ownNumbers in (\n",
    "    map(lambda line: map(str.strip, re.split('[:|]', line, 2)), lines)\n",
    "):\n",
    "    \n",
    "    winningNumbersArray = winningNumbers.split()\n",
    "    #numMatches represents the number of matches\n",
    "    numMatches = sum(1 for number in ownNumbers.split() if number in winningNumbersArray)\n",
    "\n",
    "    #dictionary to represent informarions about the card\n",
    "    card = {\n",
    "        'id': cardId.replace('Card ', ''),\n",
    "        'winningNumbers': winningNumbers,\n",
    "        'ownNumbers': ownNumbers,\n",
    "        'numMatches': numMatches,\n",
    "        'multiplier': 1\n",
    "    }\n",
    "\n",
    "    cards.append(card)\n",
    "\n",
    "\n",
    "#calculation of values and multipliers\n",
    "#list that stores the multipliers for each card\n",
    "multipliers = [\n",
    "    calculate_line_value(card, cards)\n",
    "    for card in cards\n",
    "]\n",
    "\n",
    "# sum of values considering multipliers\n",
    "result = sum(multipliers)\n",
    "\n",
    "print(result)\n"
   ]
  },
  {
   "cell_type": "code",
   "execution_count": null,
   "id": "3be1f33d-f4c8-433c-9064-0f5bed7339cf",
   "metadata": {},
   "outputs": [],
   "source": []
  }
 ],
 "metadata": {
  "kernelspec": {
   "display_name": "Python 3 (ipykernel)",
   "language": "python",
   "name": "python3"
  },
  "language_info": {
   "codemirror_mode": {
    "name": "ipython",
    "version": 3
   },
   "file_extension": ".py",
   "mimetype": "text/x-python",
   "name": "python",
   "nbconvert_exporter": "python",
   "pygments_lexer": "ipython3",
   "version": "3.11.0"
  }
 },
 "nbformat": 4,
 "nbformat_minor": 5
}
